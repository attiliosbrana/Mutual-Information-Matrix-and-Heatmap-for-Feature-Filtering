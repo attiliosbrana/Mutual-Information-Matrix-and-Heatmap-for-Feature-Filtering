{
 "cells": [
  {
   "cell_type": "code",
   "execution_count": null,
   "metadata": {},
   "outputs": [],
   "source": [
    "import pandas as pd\n",
    "import numpy as np\n",
    "from heatmap import plot_combined_heatmap\n",
    "\n",
    "df = pd.read_csv('marketing_causality.csv', index_col=0)\n",
    "\n",
    "# Testing the functions\n",
    "plot_combined_heatmap(df, \"New_Customers\", lags = [0, 1], k=16)"
   ]
  }
 ],
 "metadata": {
  "language_info": {
   "name": "python"
  },
  "orig_nbformat": 4
 },
 "nbformat": 4,
 "nbformat_minor": 2
}
